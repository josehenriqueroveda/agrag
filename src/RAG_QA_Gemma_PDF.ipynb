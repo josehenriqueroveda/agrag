{
  "cells": [
    {
      "cell_type": "markdown",
      "metadata": {},
      "source": [
        "# 💬 AgRAG\n",
        "\n",
        "Este notebook configura um pipeline completo de perguntas e respostas (Q&A) com base em um arquivo PDF, usando RAG (Retrieval-Augmented Generation), FAISS, embeddings com HuggingFace, e LLM Gemma via Ollama."
      ]
    },
    {
      "cell_type": "code",
      "execution_count": 2,
      "id": "b5dc8576",
      "metadata": {},
      "outputs": [],
      "source": [
        "import os\n",
        "import pdfplumber\n",
        "from langchain_community.vectorstores import FAISS\n",
        "from langchain_huggingface import HuggingFaceEmbeddings\n",
        "from langchain.text_splitter import RecursiveCharacterTextSplitter\n",
        "from langchain_ollama.llms import OllamaLLM\n",
        "from langchain.chains.combine_documents import create_stuff_documents_chain\n",
        "from langchain.chains.retrieval import create_retrieval_chain\n",
        "from langchain_core.prompts import PromptTemplate"
      ]
    },
    {
      "cell_type": "code",
      "execution_count": 5,
      "id": "7933cdff",
      "metadata": {},
      "outputs": [],
      "source": [
        "CROP = \"milho\""
      ]
    },
    {
      "cell_type": "code",
      "execution_count": 9,
      "metadata": {},
      "outputs": [],
      "source": [
        "def load_pdf_text(crop):\n",
        "    all_text = \"\"\n",
        "    with pdfplumber.open(os.path.join(\"data\", f\"{crop}.pdf\")) as pdf:\n",
        "        for page in pdf.pages:\n",
        "            all_text += page.extract_text() + \"\\n\"\n",
        "    if not all_text.strip():\n",
        "        raise ValueError(f\"No text found in the PDF for crop: {crop}\")\n",
        "    return all_text"
      ]
    },
    {
      "cell_type": "code",
      "execution_count": 10,
      "id": "00a5f903",
      "metadata": {},
      "outputs": [],
      "source": [
        "pdf_text = load_pdf_text(CROP)"
      ]
    },
    {
      "cell_type": "code",
      "execution_count": 11,
      "metadata": {},
      "outputs": [],
      "source": [
        "# 📌 Quebra de texto e geração dos embeddings\n",
        "splitter = RecursiveCharacterTextSplitter(chunk_size=1500, chunk_overlap=100)\n",
        "docs = splitter.create_documents([pdf_text])\n",
        "\n",
        "embedding = HuggingFaceEmbeddings(model_name=\"intfloat/multilingual-e5-base\")\n",
        "db = FAISS.from_documents(docs, embedding)"
      ]
    },
    {
      "cell_type": "code",
      "execution_count": 12,
      "metadata": {},
      "outputs": [],
      "source": [
        "# 📌 Configuração do modelo Gemma via Ollama\n",
        "llm = OllamaLLM(model=\"gemma3:1b\")  # Requer que o modelo esteja instalado via `ollama pull gemma3:1b`"
      ]
    },
    {
      "cell_type": "code",
      "execution_count": 13,
      "metadata": {},
      "outputs": [],
      "source": [
        "# 📌 Criação do chain de perguntas e respostas (RAG)\n",
        "template = \"\"\"\n",
        "        Você é um assistente agrícola especializado na cultura de {crop}. \n",
        "        Responda a pergunta abaixo em português do Brasil, com base exclusivamente no conteúdo fornecido.\n",
        "\n",
        "        Contexto:\n",
        "        {context}\n",
        "\n",
        "        Pergunta: {input}\n",
        "        Resposta:\n",
        "        \"\"\"\n",
        "\n",
        "prompt = PromptTemplate(template=template, input_variables=[\"input\", \"crop\"])\n",
        "\n",
        "document_chain = create_stuff_documents_chain(\n",
        "    llm=llm,\n",
        "    prompt=prompt,\n",
        ")\n",
        "\n",
        "retriever = db.as_retriever(search_kwargs={\"k\": 10})\n",
        "\n",
        "qa_chain = create_retrieval_chain(\n",
        "    retriever,\n",
        "    document_chain,\n",
        ")"
      ]
    },
    {
      "cell_type": "code",
      "execution_count": 14,
      "metadata": {},
      "outputs": [
        {
          "name": "stdout",
          "output_type": "stream",
          "text": [
            "\n",
            " Em milho, Bipolaris é um patógeno fúngico que pode causar diversas doenças, afetando a qualidade do grão e a produtividade. As doenças causadas por Bipolaris são diversas, com diferentes graus de gravidade. A principal característica do Bipolaris é o desenvolvimento de manchas ou lesões em diferentes partes do grão, especialmente na parte inferior e na área de contato com a testa. Essas lesões podem variar em tamanho, cor e forma, tornando o grão irregular e comprometendo sua qualidade.\n",
            "\n",
            "**Tipos de Doenças Causadas por Bipolaris:**\n",
            "\n",
            "*   **Danos da Parte Inferior (da \"parte brava\"):** É a forma mais comum de dano. As lesões podem ser brancas, escuras ou em forma de \"X\", e podem causar um amarelamento da área.\n",
            "*   **Danos na Área de Contato com a Testa:**  As lesões nessa área podem ser de diferentes tamanhos e formas, e costumam ser mais acentuadas do que as doentes na parte inferior.\n",
            "*   **Danos na Parte Superior (da \"parte branca\"):**  As lesões são geralmente mais leves e podem ser mais uniformes.\n",
            "*   **Danos em Diferentes Regiões:** O Bipolaris pode causar danos em áreas diferentes do grão, como na testa, na parte inferior, na base do grão e nas linhas de leite, afetando a qualidade e o peso do grão.\n",
            "\n",
            "**As principais formas de propagação:**\n",
            "\n",
            "*   **Vibração:** As lagartas (especialmente a Lagarta-caçadora de Grão) são consideradas o principal vetor de propagação do Bipolaris, transportando os patógenos.\n",
            "*   **Ar:** A movimentação do ar de qualidade satisfatória pelo sistema pode propagar os patógenos de um plantio para outro.\n",
            "*   **Atração de Grãos:** O contato com a massa de grãos pode levar à reprodução do patógeno, especialmente na fase de desenvolvimento do grão.\n",
            "\n",
            "**Impacto na Qualidade e Produtividade:**\n",
            "\n",
            "*   **Redução do Peso:** As lesões causadas pelo Bipolaris podem reduzir o peso do grão, afetando a qualidade e o valor comercial do produto.\n",
            "*   **Alteração da Cor:** As lesões podem causar alterações na cor do grão, tornando-o mais amarelado ou marrom.\n",
            "*   **Redução da Qualidade:** As lesões podem comprometer a qualidade do grão, afetando a sua qualidade e tornando-o inadequado para consumo ou comercialização.\n",
            "*   **Perda de Produção:** Em casos graves, as doenças podem levar à perda de produção, impactando a rentabilidade do agricultor.\n",
            "\n",
            "**Em resumo, Bipolaris é uma doença fúngica que pode causar graves danos a grãos de milho, afetando a qualidade e a produtividade da cultura.**\n"
          ]
        }
      ],
      "source": [
        "# 📌 Fazer perguntas ao modelo\n",
        "pergunta = \"O que é Bipolaris no Milho?\"\n",
        "context_vars = {\n",
        "    \"input\": pergunta,\n",
        "    \"crop\": CROP,\n",
        "}\n",
        "\n",
        "resposta = qa_chain.invoke(context_vars)\n",
        "print(\"\\n\", resposta[\"answer\"])"
      ]
    },
    {
      "cell_type": "code",
      "execution_count": null,
      "id": "441c8922",
      "metadata": {},
      "outputs": [],
      "source": []
    }
  ],
  "metadata": {
    "kernelspec": {
      "display_name": "venv",
      "language": "python",
      "name": "python3"
    },
    "language_info": {
      "codemirror_mode": {
        "name": "ipython",
        "version": 3
      },
      "file_extension": ".py",
      "mimetype": "text/x-python",
      "name": "python",
      "nbconvert_exporter": "python",
      "pygments_lexer": "ipython3",
      "version": "3.12.9"
    }
  },
  "nbformat": 4,
  "nbformat_minor": 5
}
