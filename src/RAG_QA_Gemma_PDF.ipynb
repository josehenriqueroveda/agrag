{
  "cells": [
    {
      "cell_type": "markdown",
      "metadata": {},
      "source": [
        "# 💬 AgRAG\n",
        "\n",
        "Este notebook configura um pipeline completo de perguntas e respostas (Q&A) com base em um arquivo PDF, usando RAG (Retrieval-Augmented Generation), FAISS, embeddings com HuggingFace, e LLM Gemma via Ollama."
      ]
    },
    {
      "cell_type": "code",
      "execution_count": null,
      "metadata": {},
      "outputs": [],
      "source": [
        "# 📌 Instalação dos pacotes necessários\n",
        "%pip install langchain langchain-ollama langchain-huggingface langchain-community faiss-cpu pypdf sentence-transformers ollama pdfplumber"
      ]
    },
    {
      "cell_type": "code",
      "execution_count": 8,
      "metadata": {},
      "outputs": [
        {
          "name": "stdout",
          "output_type": "stream",
          "text": [
            "\n",
            "Coleção500 Perguntas500 Respostas\n",
            "O produtor pergunta, a Embrapa responde\n",
            "\n",
            "Empresa Brasileira de Pesquisa Agropecuária\n",
            "Embrapa Soja\n",
            "Ministério da Agricultura, Pecuária e Abastecimento\n",
            "O produtor pergunta, a Embrapa responde\n",
            "Arnold Barbosa de Oliveira\n",
            "Regina Maria Villas Bôas de Campos Leite\n",
            "Alvadi Antônio Balbinot Junior\n",
            "Claudine Dinali Santos Seixas\n",
            "Hugo Soares Kern\n",
            "Editores Técnicos\n",
            "Embrapa\n",
            "Brasília, DF\n",
            "2019\n",
            "Exemplares desta publicação podem ser adquiridos na:\n",
            "Embrapa Responsável pela edição\n",
            "Parque Estação Biológica (PqEB) Secretaria-Geral\n",
            "Av. W3 Norte (final)\n",
            "Coordenação editorial\n",
            "70770-901 Brasília, DF\n",
            "Alexandre de Oliveira Barcellos\n",
            "Fone: (61) 3448-4236\n",
            "Heloiza Dias da Silva\n",
            "Fax: (61) 3448-2494\n",
            "Nilda Maria da Cunha Sette\n",
            "www.embrapa.br/livraria\n",
            "livraria@embrapa.br Supervisão editorial\n",
            "Embrapa Soja Josmária Madalena Lopes\n",
            "Rod. Carlos João Strass, acesso Orlando Amaral,\n",
            "Revisão de texto\n",
            "Distrito de Warta\n",
            "Jane Baptistone de Araújo\n",
            "Caixa Postal 231\n",
            "86001-970 Londrina, PR\n",
            "Normalizaç\n"
          ]
        }
      ],
      "source": [
        "import pdfplumber\n",
        "\n",
        "def load_pdf_text(path):\n",
        "    all_text = \"\"\n",
        "    with pdfplumber.open(path) as pdf:\n",
        "        for page in pdf.pages:\n",
        "            all_text += page.extract_text() + \"\\n\"\n",
        "    return all_text\n",
        "\n",
        "pdf_text = load_pdf_text(\"data/500perguntassoja.pdf\")\n",
        "print(pdf_text[:1000])"
      ]
    },
    {
      "cell_type": "code",
      "execution_count": 9,
      "metadata": {},
      "outputs": [],
      "source": [
        "# 📌 Quebra de texto e geração dos embeddings\n",
        "from langchain.text_splitter import RecursiveCharacterTextSplitter\n",
        "from langchain_huggingface import HuggingFaceEmbeddings\n",
        "from langchain.vectorstores import FAISS\n",
        "\n",
        "splitter = RecursiveCharacterTextSplitter(chunk_size=1500, chunk_overlap=100)\n",
        "docs = splitter.create_documents([pdf_text])\n",
        "\n",
        "embedding = HuggingFaceEmbeddings(model_name=\"intfloat/multilingual-e5-base\")\n",
        "db = FAISS.from_documents(docs, embedding)"
      ]
    },
    {
      "cell_type": "code",
      "execution_count": 10,
      "metadata": {},
      "outputs": [],
      "source": [
        "# 📌 Configuração do modelo Gemma via Ollama\n",
        "from langchain_ollama import OllamaLLM\n",
        "\n",
        "llm = OllamaLLM(model=\"gemma3:1b\")  # Requer que o modelo esteja instalado via `ollama pull gemma3:1b`"
      ]
    },
    {
      "cell_type": "code",
      "execution_count": 11,
      "metadata": {},
      "outputs": [],
      "source": [
        "# 📌 Criação do chain de perguntas e respostas (RAG)\n",
        "from langchain.prompts import PromptTemplate\n",
        "from langchain.chains import RetrievalQA\n",
        "\n",
        "crop = \"soja\"  # Ajuste para a cultura desejada\n",
        "\n",
        "template = \"\"\"\n",
        "Você é um assistente agrícola especializado na cultura de \"\"\" + crop + \"\"\" . Responda a pergunta abaixo em português do Brasil, com base exclusivamente no conteúdo fornecido.\n",
        "\n",
        "Contexto:\n",
        "{context}\n",
        "\n",
        "Pergunta: {question}\n",
        "Resposta:\n",
        "\"\"\"\n",
        "\n",
        "prompt = PromptTemplate(template=template, input_variables=[\"context\", \"question\"])\n",
        "\n",
        "qa_chain = RetrievalQA.from_chain_type(\n",
        "    llm=llm,\n",
        "    retriever=db.as_retriever(search_kwargs={\"k\": 10}),\n",
        "    chain_type=\"stuff\",\n",
        "    chain_type_kwargs={\"prompt\": prompt},\n",
        ")"
      ]
    },
    {
      "cell_type": "code",
      "execution_count": 12,
      "metadata": {},
      "outputs": [
        {
          "name": "stdout",
          "output_type": "stream",
          "text": [
            "Resposta: O controle biológico na soja é de extrema importância por diversas razões:\n",
            "\n",
            "*   **Autossustentabilidade:** Os agentes de controle biológico são considerados inócuos a outros organismos não alvo e não provocam desequilíbrio no ambiente, o que o torna uma alternativa mais amigável ao controle químico.\n",
            "\n",
            "*   **Resistência:** A utilização de agentes biológicos pode ajudar a mitigar a disseminação de pragas resistentes a inseticidas, pois eles atuam de forma natural e complementam os agentes químicos.\n",
            "\n",
            "*   **Diversidade:** O controle biológico promove a diversidade de organismos no solo, o que aumenta a resiliência da cultura e reduz a dependência de produtos químicos.\n",
            "\n",
            "*   **Alternativa:** Em situações de emergência, o controle biológico pode ser utilizado para controlar pragas de forma rápida e eficiente.\n",
            "\n",
            "*   **Benefícios Ambientais:** Além de combater pragas, o controle biológico contribui para a saúde do solo e da água.\n",
            "\n",
            "*   **Redução de Custos:** Em alguns casos, o controle biológico pode ser mais econômico do que o controle químico, devido à menor necessidade de aplicações repetidas.\n",
            "\n",
            "*   **Melhora da Qualidade:** A rotação de culturas, com o uso de culturas de cobertura, pode melhorar a qualidade do solo, favorecendo o crescimento das raízes e o desenvolvimento das plantas.\n",
            "\n",
            "Em resumo, o controle biológico é uma estratégia de manejo sustentável e eficaz na agricultura, que busca minimizar o uso de produtos químicos, aumentar a resiliência da cultura e promover a saúde do solo e da água.\n"
          ]
        }
      ],
      "source": [
        "# 📌 Fazer perguntas ao modelo\n",
        "pergunta = \"Qual importância do controle biológico na soja?\"\n",
        "resposta = qa_chain.invoke(pergunta)\n",
        "print(\"Resposta:\", resposta[\"result\"])"
      ]
    },
    {
      "cell_type": "code",
      "execution_count": null,
      "id": "441c8922",
      "metadata": {},
      "outputs": [],
      "source": []
    }
  ],
  "metadata": {
    "kernelspec": {
      "display_name": "venv",
      "language": "python",
      "name": "python3"
    },
    "language_info": {
      "codemirror_mode": {
        "name": "ipython",
        "version": 3
      },
      "file_extension": ".py",
      "mimetype": "text/x-python",
      "name": "python",
      "nbconvert_exporter": "python",
      "pygments_lexer": "ipython3",
      "version": "3.12.9"
    }
  },
  "nbformat": 4,
  "nbformat_minor": 5
}
