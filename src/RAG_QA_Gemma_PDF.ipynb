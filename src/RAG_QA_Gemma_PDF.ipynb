{
  "cells": [
    {
      "cell_type": "markdown",
      "metadata": {},
      "source": [
        "# 💬 AgRAG\n",
        "\n",
        "Este notebook configura um pipeline completo de perguntas e respostas (Q&A) com base em um arquivo PDF, usando RAG (Retrieval-Augmented Generation), FAISS, embeddings com HuggingFace, e LLM Gemma via Ollama."
      ]
    },
    {
      "cell_type": "code",
      "execution_count": null,
      "metadata": {},
      "outputs": [],
      "source": [
        "# 📌 Instalação dos pacotes necessários\n",
        "%pip install langchain langchain-ollama langchain-huggingface langchain-community faiss-cpu pypdf sentence-transformers ollama pdfplumber"
      ]
    },
    {
      "cell_type": "code",
      "execution_count": 2,
      "metadata": {},
      "outputs": [
        {
          "name": "stdout",
          "output_type": "stream",
          "text": [
            "\n",
            "O produtor pergunta, a Embrapa responde\n",
            "Empresa Brasileira de Pesquisa Agropecuária\n",
            "Embrapa Milho e Sorgo\n",
            "Ministério da Agricultura, Pecuária e Abastecimento\n",
            "O produtor pergunta, a Embrapa responde\n",
            "José Carlos Cruz\n",
            "Paulo César Magalhães\n",
            "Israel Alexandre Pereira Filho\n",
            "José Aloísio Alves Moreira\n",
            "Editores Técnicos\n",
            "Embrapa Informação Tecnológica\n",
            "Brasília, DF\n",
            "2011\n",
            "Exemplares desta publicação podem ser adquiridos na:\n",
            "Embrapa Informação Tecnológica\n",
            "Parque Estação Biológica (PqEB), Av. W3 Norte (final)\n",
            "CEP 70770-901 Brasília, DF\n",
            "Fone: (61) 3448-4236\n",
            "Fax: (61) 3448-2494\n",
            "vendas@sct.embrapa.br\n",
            "www.embrapa.br/liv\n",
            "Embrapa Milho e Sorgo\n",
            "Rodovia MG 424, km 65\n",
            "Caixa Postal 151\n",
            "35701-970 Sete Lagoas, MG\n",
            "Fone: (31) 3779-1000 / 3779-1250\n",
            "Fax (31): 3779-1088\n",
            "sac@cnpms.embrapa.br\n",
            "www.cnpms.embrapa.br\n",
            "Produção editorial: Embrapa Informação Tecnológica\n",
            "Coordenação editorial: Fernando do Amaral Pereira\n",
            "Lucilene Maria de Andrade\n",
            "Juliana Meireles Fortaleza\n",
            "Supervisão editorial: Wesley José da Rocha\n",
            "Revisão de \n"
          ]
        }
      ],
      "source": [
        "import pdfplumber\n",
        "\n",
        "def load_pdf_text(path):\n",
        "    all_text = \"\"\n",
        "    with pdfplumber.open(path) as pdf:\n",
        "        for page in pdf.pages:\n",
        "            all_text += page.extract_text() + \"\\n\"\n",
        "    return all_text\n",
        "\n",
        "pdf_text = load_pdf_text(\"data/500perguntasmilho.pdf\")\n",
        "print(pdf_text[:1000])"
      ]
    },
    {
      "cell_type": "code",
      "execution_count": 14,
      "metadata": {},
      "outputs": [],
      "source": [
        "# 📌 Quebra de texto e geração dos embeddings\n",
        "from langchain.text_splitter import RecursiveCharacterTextSplitter\n",
        "from langchain_huggingface import HuggingFaceEmbeddings\n",
        "from langchain.vectorstores import FAISS\n",
        "\n",
        "splitter = RecursiveCharacterTextSplitter(chunk_size=1500, chunk_overlap=100)\n",
        "docs = splitter.create_documents([pdf_text])\n",
        "\n",
        "embedding = HuggingFaceEmbeddings(model_name=\"intfloat/multilingual-e5-base\")\n",
        "db = FAISS.from_documents(docs, embedding)"
      ]
    },
    {
      "cell_type": "code",
      "execution_count": 15,
      "metadata": {},
      "outputs": [],
      "source": [
        "# 📌 Configuração do modelo Gemma via Ollama\n",
        "from langchain_ollama import OllamaLLM\n",
        "\n",
        "llm = OllamaLLM(model=\"gemma3:1b\")  # Requer que o modelo esteja instalado via `ollama pull gemma3:1b`"
      ]
    },
    {
      "cell_type": "code",
      "execution_count": 16,
      "metadata": {},
      "outputs": [],
      "source": [
        "# 📌 Criação do chain de perguntas e respostas (RAG)\n",
        "from langchain.prompts import PromptTemplate\n",
        "from langchain.chains import RetrievalQA\n",
        "\n",
        "template = \"\"\"\n",
        "Você é um assistente agrícola especializado na cultura do milho. Responda a pergunta abaixo em português do Brasil, com base exclusivamente no conteúdo fornecido.\n",
        "\n",
        "Contexto:\n",
        "{context}\n",
        "\n",
        "Pergunta: {question}\n",
        "Resposta:\n",
        "\"\"\"\n",
        "\n",
        "prompt = PromptTemplate(template=template, input_variables=[\"context\", \"question\"])\n",
        "\n",
        "qa_chain = RetrievalQA.from_chain_type(\n",
        "    llm=llm,\n",
        "    retriever=db.as_retriever(search_kwargs={\"k\": 10}),\n",
        "    chain_type=\"stuff\",\n",
        "    chain_type_kwargs={\"prompt\": prompt},\n",
        ")"
      ]
    },
    {
      "cell_type": "code",
      "execution_count": 17,
      "metadata": {},
      "outputs": [
        {
          "name": "stdout",
          "output_type": "stream",
          "text": [
            "Resposta: O problema maior é a dificuldade de reconhecer com antecedência a presença da praga. Como uma broca, essa praga, na fase larval, passa a maior parte do tempo dentro do colmo do milho. Uma vez nesse local, fica muito difícil obter eficiência por meio de medidas como a aplicação de inseticidas em pó.\n",
            "\n",
            "As medidas de controle podem ser divididas em duas categorias principais:\n",
            "\n",
            "1.  **Controle de plantas daninhas:** A principal forma de controle é eliminar as plantas daninhas que se multiplicam na área. Isso inclui o controle de lagartas-cartucho, que são uma praga comum no milho safrinha, e outras espécies de plantas que competem por recursos, como a lagarta-do-cartucho.\n",
            "\n",
            "2.  **Controle biológico:**\n",
            "    *   **Uso de inimigos naturais:** O controle biológico consiste em utilizar insetos benéficos que atacam as pragas. Exemplos incluem o *Sphenalos* (que comem as lagartas), o *Cotesia* (que comem a lagarta-do-cartucho) e o *Lilingula* (que comem a lagarta-do-cartucho).\n",
            "    *   **Imunização:** A imunoimunização do milho, consiste em imobilizar o inseto da praga, fazendo com que ele se suje e transmita os esporos de sua doença para as plantas vizinhas.\n",
            "\n",
            "Para controlar pulgões, o ideal é utilizar o controle biológico. O método mais eficiente é o controle biológico do pulgão-de-barriga-verde (Dichelops melacanthus), que é uma praga comum no milho safrinha, e a utilização de inseticidas como o *Cymerac var. ominus*, que possui um alto poder de controle. O método mais efetivo é o tratamento das sementes com inseticidas sistêmicos, como o *Fipronil*, que possui alto poder de controle.\n",
            "\n",
            "Além disso, o controle biológico pode ser combinado com a aplicação de inseticidas em pó, que pode ser utilizada para atingir as populações de pulgões que não foram completamente eliminadas. Para o controle do pulgão-de-barriga-verde e o controle biológico, é importante considerar a utilização de equipamentos de proteção individual, e o cumprimento das práticas de segurança.\n"
          ]
        }
      ],
      "source": [
        "# 📌 Fazer perguntas ao modelo\n",
        "pergunta = \"Como controlar pulgões no milho?\"\n",
        "resposta = qa_chain.invoke(pergunta)\n",
        "print(\"Resposta:\", resposta[\"result\"])"
      ]
    },
    {
      "cell_type": "code",
      "execution_count": null,
      "id": "441c8922",
      "metadata": {},
      "outputs": [],
      "source": []
    }
  ],
  "metadata": {
    "kernelspec": {
      "display_name": "venv",
      "language": "python",
      "name": "python3"
    },
    "language_info": {
      "codemirror_mode": {
        "name": "ipython",
        "version": 3
      },
      "file_extension": ".py",
      "mimetype": "text/x-python",
      "name": "python",
      "nbconvert_exporter": "python",
      "pygments_lexer": "ipython3",
      "version": "3.12.9"
    }
  },
  "nbformat": 4,
  "nbformat_minor": 5
}
